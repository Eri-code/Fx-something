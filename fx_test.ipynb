{
   "source": [
    "!pip install oandapyV20"
   ]
  },
  {
   "cell_type": "code",
   "execution_count": 2,
   "metadata": {},
   "outputs": [],
   "source": [
    "from oandapyV20 import API\n",
    "from oandapyV20.exceptions import V20Error\n",
    "from oandapyV20.endpoints.pricing import PricingStream\n",
    "import oandapyV20.endpoints.orders as orders\n",
    "import oandapyV20.endpoints.instruments as instruments"
   ]
  },
  {
   "cell_type": "code",
   "execution_count": 3,
   "metadata": {},
   "outputs": [],
   "source": [
    "#自分のアカウント、トークンをセット\n",
    "accountID = \"***-***-**********-****\"\n",
    "access_token = '*********************************************'\n",
    "\n",
    "api = API(access_token=access_token, environment=\"practice\")"
   ]
  },
  {
   "cell_type": "code",
   "execution_count": 4,
   "metadata": {},
   "outputs": [],
   "source": [
    "# グラフ描画に使う\n",
    "import numpy as np\n",
    "import pandas as pd\n",
    "import matplotlib.pyplot as plt\n",
    "from IPython.display import display, clear_output"
   ]
  },
  {
   "cell_type": "code",
   "execution_count": null,
   "metadata": {},
   "outputs": [],
   "source": [
    "import json\n",
    "instruments = \"EUR_USD\"\n",
    "s = PricingStream(accountID=accountID, params={\"instruments\":instruments})\n",
    "\n",
    "# 価格を格納する配列\n",
    "raws = []\n",
    "# プロットの準備\n",
    "fig = plt.figure(figsize=(16,10))\n",
    "axe = fig.add_subplot(111)\n",
    "try:\n",
    "    n = 0\n",
    "    for R in api.request(s):\n",
    "      if \"bids\" in R.keys():\n",
    "        clear_output(wait = True) \n",
    "        raws = np.append(raws, R['bids'][0]['price'])\n",
    "        # プロット\n",
    "        axe.plot(raws, \"black\", linewidth=2, label=\"price\")\n",
    "        display(fig) \n",
    "        axe.cla()\n",
    "except V20Error as e:\n",
    "    print(\"Error: {}\".format(e))"
   ]
  }
 ],
 "metadata": {
  "kernelspec": {
   "display_name": "Python 3",
   "language": "python",
   "name": "python3"
  },
  "language_info": {
   "codemirror_mode": {
    "name": "ipython",
    "version": 3
   },
   "file_extension": ".py",
   "mimetype": "text/x-python",
   "name": "python",
   "nbconvert_exporter": "python",
   "pygments_lexer": "ipython3",
   "version": "3.7.4"
  }
 },
 "nbformat": 4,
 "nbformat_minor": 2
}
