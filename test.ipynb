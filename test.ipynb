{
 "cells": [
  {
   "cell_type": "code",
   "execution_count": 1,
   "metadata": {
    "colab": {
     "base_uri": "https://localhost:8080/",
     "height": 34
    },
    "colab_type": "code",
    "executionInfo": {
     "elapsed": 3318,
     "status": "ok",
     "timestamp": 1600875375182,
     "user": {
      "displayName": "eri tezuka",
      "photoUrl": "",
      "userId": "03068296873219966657"
     },
     "user_tz": -540
    },
    "id": "5DWM0zQ2OjYW",
    "outputId": "a8998293-877d-4ecb-8d3b-d0b685419f52"
   },
   "outputs": [
    {
     "name": "stdout",
     "output_type": "stream",
     "text": [
      "Collecting oandapyV20\n",
      "  Downloading https://files.pythonhosted.org/packages/0d/d5/f69c978f485db3048886c447398e39c6ec18041e689656e6d31697ea4e7f/oandapyV20-0.6.3.tar.gz (52kB)\n",
      "Building wheels for collected packages: oandapyV20\n",
      "  Building wheel for oandapyV20 (setup.py): started\n",
      "  Building wheel for oandapyV20 (setup.py): finished with status 'done'\n",
      "  Created wheel for oandapyV20: filename=oandapyV20-0.6.3-cp37-none-any.whl size=69747 sha256=a1420fdc46f441904981d0d9b280cb3ff00d3c17e1efdadc20336a80f9c29e09\n",
      "  Stored in directory: C:\\Users\\coreo\\AppData\\Local\\pip\\Cache\\wheels\\2c\\b0\\cd\\49054320a6cc51db0ff4f1ee15d8840375f16cef57b81ebfc0\n",
      "Successfully built oandapyV20\n",
      "Installing collected packages: oandapyV20\n",
      "Successfully installed oandapyV20-0.6.3\n"
     ]
    }
   ],
   "source": [
    "!pip install oandapyV20"
   ]
  },
  {
   "cell_type": "code",
   "execution_count": 2,
   "metadata": {
    "colab": {},
    "colab_type": "code",
    "executionInfo": {
     "elapsed": 581,
     "status": "ok",
     "timestamp": 1600875378195,
     "user": {
      "displayName": "eri tezuka",
      "photoUrl": "",
      "userId": "03068296873219966657"
     },
     "user_tz": -540
    },
    "id": "vwGUMNy3OoxF"
   },
   "outputs": [],
   "source": [
    "from oandapyV20 import API\n",
    "from oandapyV20.exceptions import V20Error\n",
    "from oandapyV20.endpoints.pricing import PricingStream\n",
    "import oandapyV20.endpoints.orders as orders\n",
    "import oandapyV20.endpoints.instruments as instruments"
   ]
  },
  {
   "cell_type": "code",
   "execution_count": 6,
   "metadata": {
    "colab": {},
    "colab_type": "code",
    "executionInfo": {
     "elapsed": 572,
     "status": "ok",
     "timestamp": 1600875379557,
     "user": {
      "displayName": "eri tezuka",
      "photoUrl": "",
      "userId": "03068296873219966657"
     },
     "user_tz": -540
    },
    "id": "1XTzfze0Oq0B"
   },
   "outputs": [],
   "source": [
    "#自分のアカウント、トークンをセット\n",
    "accountID = \"***-***-*************-***\"\n",
    "access_token = '***********************************************'\n",
    "\n",
    "api = API(access_token=access_token, environment=\"practice\")"
   ]
  },
  {
   "cell_type": "code",
   "execution_count": 9,
   "metadata": {
    "colab": {},
    "colab_type": "code",
    "executionInfo": {
     "elapsed": 702,
     "status": "ok",
     "timestamp": 1600875380991,
     "user": {
      "displayName": "eri tezuka",
      "photoUrl": "",
      "userId": "03068296873219966657"
     },
     "user_tz": -540
    },
    "id": "tKi6lp3gOs7d"
   },
   "outputs": [],
   "source": [
    "# グラフ描画に使う\n",
    "import numpy as np\n",
    "import pandas as pd\n",
    "import matplotlib.pyplot as plt\n",
    "from IPython.display import display, clear_output"
   ]
  },
  {
   "cell_type": "code",
   "execution_count": null,
   "metadata": {
    "colab": {
     "base_uri": "https://localhost:8080/",
     "height": 1000
    },
    "colab_type": "code",
    "executionInfo": {
     "elapsed": 17225,
     "status": "error",
     "timestamp": 1600875551947,
     "user": {
      "displayName": "eri tezuka",
      "photoUrl": "",
      "userId": "03068296873219966657"
     },
     "user_tz": -540
    },
    "id": "a9xC9rLfOvv-",
    "outputId": "965f550f-d849-4d5f-ab58-cfe342bbe98a"
   },
   "outputs": [],
   "source": [
    "import json\n",
    "instruments = \"EUR_USD\"\n",
    "s = PricingStream(accountID=accountID, params={\"instruments\":instruments})\n",
    "\n",
    "# 価格を格納する配列\n",
    "raws = []\n",
    "# プロットの準備\n",
    "fig = plt.figure(figsize=(16,10))\n",
    "axe = fig.add_subplot(111)\n",
    "try:\n",
    "    n = 0\n",
    "    for R in api.request(s):\n",
    "      if \"bids\" in R.keys():\n",
    "        clear_output(wait = True) \n",
    "        raws = np.append(raws, R['bids'][0]['price'])\n",
    "        # プロット\n",
    "        axe.plot(raws, \"black\", linewidth=2, label=\"price\")\n",
    "        display(fig) \n",
    "        axe.cla()\n",
    "except V20Error as e:\n",
    "    print(\"Error: {}\".format(e))"
   ]
  },
  {
   "cell_type": "code",
   "execution_count": null,
   "metadata": {
    "colab": {},
    "colab_type": "code",
    "id": "pPDwoc39V4_K"
   },
   "outputs": [],
   "source": []
  }
 ],
 "metadata": {
  "colab": {
   "authorship_tag": "ABX9TyPS6fLt811MFrPVXICB5+jU",
   "collapsed_sections": [],
   "name": "FX2.ipynb",
   "provenance": []
  },
  "kernelspec": {
   "display_name": "Python 3",
   "language": "python",
   "name": "python3"
  },
  "language_info": {
   "codemirror_mode": {
    "name": "ipython",
    "version": 3
   },
   "file_extension": ".py",
   "mimetype": "text/x-python",
   "name": "python",
   "nbconvert_exporter": "python",
   "pygments_lexer": "ipython3",
   "version": "3.7.4"
  }
 },
 "nbformat": 4,
 "nbformat_minor": 1
}
